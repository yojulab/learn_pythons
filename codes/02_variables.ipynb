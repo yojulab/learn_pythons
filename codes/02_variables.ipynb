{
  "nbformat": 4,
  "nbformat_minor": 0,
  "metadata": {
    "colab": {
      "provenance": [],
      "collapsed_sections": [
        "hNRYvgI7kssJ"
      ],
      "include_colab_link": true
    },
    "kernelspec": {
      "name": "python3",
      "display_name": "Python 3"
    },
    "language_info": {
      "name": "python"
    }
  },
  "cells": [
    {
      "cell_type": "markdown",
      "metadata": {
        "id": "view-in-github",
        "colab_type": "text"
      },
      "source": [
        "<a href=\"https://colab.research.google.com/github/yojulab/learn_pythons/blob/master/codes/02_variables.ipynb\" target=\"_parent\"><img src=\"https://colab.research.google.com/assets/colab-badge.svg\" alt=\"Open In Colab\"/></a>"
      ]
    },
    {
      "cell_type": "markdown",
      "source": [
        "## 변수 재사용\n",
        "- 변수명과 변수값으로 구성"
      ],
      "metadata": {
        "id": "hNRYvgI7kssJ"
      }
    },
    {
      "cell_type": "code",
      "execution_count": null,
      "metadata": {
        "id": "cd_yuf4NreOI",
        "colab": {
          "base_uri": "https://localhost:8080/"
        },
        "outputId": "ca9b1b42-41e5-42cb-bf7f-1175cfa8add9"
      },
      "outputs": [
        {
          "output_type": "stream",
          "name": "stdout",
          "text": [
            "1 0 2\n"
          ]
        }
      ],
      "source": [
        "first_string=\"1\"\n",
        "second_string=\"0\"\n",
        "thrid_string=\"2\"\n",
        "print(first_string, second_string, thrid_string)\n"
      ]
    },
    {
      "cell_type": "code",
      "source": [
        "temp_string=\"0\"\n",
        "second_string=first_string\n",
        "first_string=temp_string\n",
        "\n",
        "print(first_string, second_string, thrid_string)"
      ],
      "metadata": {
        "colab": {
          "base_uri": "https://localhost:8080/"
        },
        "id": "3txjArXFlPXD",
        "outputId": "c84a49bb-8493-4eb0-8e7f-2f2d5d6f07c0"
      },
      "execution_count": null,
      "outputs": [
        {
          "output_type": "stream",
          "name": "stdout",
          "text": [
            "0 1 2\n"
          ]
        }
      ]
    },
    {
      "cell_type": "code",
      "source": [
        "first_string=thrid_string\n",
        "thrid_string=temp_string\n",
        "\n",
        "print(first_string, second_string, thrid_string)"
      ],
      "metadata": {
        "colab": {
          "base_uri": "https://localhost:8080/"
        },
        "id": "8oMZiRYTlUM2",
        "outputId": "e2cc50fb-6ba5-4efe-a55c-280395aa6639"
      },
      "execution_count": null,
      "outputs": [
        {
          "output_type": "stream",
          "name": "stdout",
          "text": [
            "2 1 0\n"
          ]
        }
      ]
    },
    {
      "cell_type": "code",
      "source": [
        "thrid_string=second_string\n",
        "second_string=temp_string\n",
        "\n",
        "print(first_string, second_string, thrid_string)"
      ],
      "metadata": {
        "colab": {
          "base_uri": "https://localhost:8080/"
        },
        "id": "vQzfQUTCnRer",
        "outputId": "ac515285-2d18-4d74-b7b5-68be554b421e"
      },
      "execution_count": null,
      "outputs": [
        {
          "output_type": "stream",
          "name": "stdout",
          "text": [
            "2 0 1\n"
          ]
        }
      ]
    },
    {
      "cell_type": "code",
      "source": [],
      "metadata": {
        "id": "qtnb2pyvntQN"
      },
      "execution_count": null,
      "outputs": []
    },
    {
      "cell_type": "markdown",
      "source": [
        "## 외부 값 입력"
      ],
      "metadata": {
        "id": "utxymGbcGhx5"
      }
    },
    {
      "cell_type": "markdown",
      "source": [
        "### 변수값 종류 확인"
      ],
      "metadata": {
        "id": "tTpio4lqG5l4"
      }
    },
    {
      "cell_type": "code",
      "source": [
        "first = 'first value'\n",
        "second = '5'\n",
        "third = 3\n",
        "print_string = f'first:{first}, second:{second}, third:{third}'\n",
        "print(print_string)"
      ],
      "metadata": {
        "colab": {
          "base_uri": "https://localhost:8080/"
        },
        "id": "Qae3Lk_qGlxg",
        "outputId": "581ea984-e345-49a4-c51e-bfb41cfef370"
      },
      "execution_count": null,
      "outputs": [
        {
          "output_type": "stream",
          "name": "stdout",
          "text": [
            "first:first value, second:5, third:3\n"
          ]
        }
      ]
    },
    {
      "cell_type": "code",
      "source": [
        "# second + third\n",
        "# type(5), type('5'), type(4.5)\n",
        "print_string = f'first:{first} {type(first)}, second:{second}/{type(second)}, third:{third}-{type(third)}'\n",
        "print(print_string)"
      ],
      "metadata": {
        "colab": {
          "base_uri": "https://localhost:8080/"
        },
        "id": "5b1rBboDHrqE",
        "outputId": "68776eb4-cffd-4005-e974-e92489943153"
      },
      "execution_count": null,
      "outputs": [
        {
          "output_type": "stream",
          "name": "stdout",
          "text": [
            "first:first value <class 'str'>, second:5/<class 'str'>, third:3-<class 'int'>\n"
          ]
        }
      ]
    },
    {
      "cell_type": "markdown",
      "source": [
        "### datatype 변경"
      ],
      "metadata": {
        "id": "PTNI3b2pK8O9"
      }
    },
    {
      "cell_type": "code",
      "source": [
        "# int(second)\n",
        "second_value = int(second)\n",
        "print(f'{second_value} / {type(second_value)}')"
      ],
      "metadata": {
        "colab": {
          "base_uri": "https://localhost:8080/"
        },
        "id": "BQfGT6HyIssL",
        "outputId": "e13255c7-f00d-4922-a878-1a2fc5353bd8"
      },
      "execution_count": null,
      "outputs": [
        {
          "output_type": "stream",
          "name": "stdout",
          "text": [
            "5 / <class 'int'>\n"
          ]
        }
      ]
    },
    {
      "cell_type": "code",
      "source": [
        "result = second_value + third\n",
        "print(f'{result} / {type(result)}')"
      ],
      "metadata": {
        "colab": {
          "base_uri": "https://localhost:8080/"
        },
        "id": "vAvPqT11LfI0",
        "outputId": "add3a82e-c62b-462e-94ee-2d8225df07d7"
      },
      "execution_count": null,
      "outputs": [
        {
          "output_type": "stream",
          "name": "stdout",
          "text": [
            "8 / <class 'int'>\n"
          ]
        }
      ]
    },
    {
      "cell_type": "code",
      "source": [
        "result_value = str(result)\n",
        "print(f'{result_value} / {type(result_value)}')"
      ],
      "metadata": {
        "colab": {
          "base_uri": "https://localhost:8080/"
        },
        "id": "Nf2qbB7-MLiT",
        "outputId": "1c3e73ec-a91e-4b4d-ea3b-7c099b8c29a0"
      },
      "execution_count": null,
      "outputs": [
        {
          "output_type": "stream",
          "name": "stdout",
          "text": [
            "8 / <class 'str'>\n"
          ]
        }
      ]
    },
    {
      "cell_type": "code",
      "source": [
        "int(first)"
      ],
      "metadata": {
        "colab": {
          "base_uri": "https://localhost:8080/",
          "height": 146
        },
        "id": "DDOBuqsJN_o4",
        "outputId": "834e05f3-a63e-4e27-d341-ca56620616cf"
      },
      "execution_count": null,
      "outputs": [
        {
          "output_type": "error",
          "ename": "ValueError",
          "evalue": "invalid literal for int() with base 10: 'first value'",
          "traceback": [
            "\u001b[0;31m---------------------------------------------------------------------------\u001b[0m",
            "\u001b[0;31mValueError\u001b[0m                                Traceback (most recent call last)",
            "\u001b[0;32m<ipython-input-14-cae97ee0b893>\u001b[0m in \u001b[0;36m<cell line: 0>\u001b[0;34m()\u001b[0m\n\u001b[0;32m----> 1\u001b[0;31m \u001b[0mint\u001b[0m\u001b[0;34m(\u001b[0m\u001b[0mfirst\u001b[0m\u001b[0;34m)\u001b[0m\u001b[0;34m\u001b[0m\u001b[0;34m\u001b[0m\u001b[0m\n\u001b[0m",
            "\u001b[0;31mValueError\u001b[0m: invalid literal for int() with base 10: 'first value'"
          ]
        }
      ]
    },
    {
      "cell_type": "markdown",
      "source": [
        "### input()"
      ],
      "metadata": {
        "id": "hrMXv1qoPJFn"
      }
    },
    {
      "cell_type": "code",
      "source": [
        "# input()\n",
        "# fourth = input()\n",
        "print(f'{fourth} / {type(fourth)}')"
      ],
      "metadata": {
        "colab": {
          "base_uri": "https://localhost:8080/"
        },
        "id": "g1SxkKFFO4oC",
        "outputId": "506e78f9-da09-43b8-ec13-76ed89bb831f"
      },
      "execution_count": null,
      "outputs": [
        {
          "output_type": "stream",
          "name": "stdout",
          "text": [
            "345\n",
            "345 / <class 'str'>\n"
          ]
        }
      ]
    },
    {
      "cell_type": "code",
      "source": [
        "# fourth + third\n",
        "int(fourth) + third    # datatype casting"
      ],
      "metadata": {
        "colab": {
          "base_uri": "https://localhost:8080/"
        },
        "id": "GHo6UBMBRv2D",
        "outputId": "35aca9b9-6091-4af9-bdec-740b4f020591"
      },
      "execution_count": null,
      "outputs": [
        {
          "output_type": "execute_result",
          "data": {
            "text/plain": [
              "348"
            ]
          },
          "metadata": {},
          "execution_count": 21
        }
      ]
    },
    {
      "cell_type": "markdown",
      "source": [
        "### toy quest\n",
        "- 외부에서 숫자 두 개를 받아 덧셈 연산 결과 출력"
      ],
      "metadata": {
        "id": "bZpLBXR-T3GN"
      }
    },
    {
      "cell_type": "code",
      "source": [
        "input_first = input('input first')\n",
        "input_second = input('input second')\n",
        "# print(f'{input_first} / {type(input_first)}')\n",
        "# print(f'{input_second} / {type(input_second)}')\n",
        "input_first_value = int(input_first)\n",
        "input_second_value = int(input_second)\n",
        "result = input_first_value + input_second_value\n",
        "print(f'{result} = {input_first_value} + {input_second_value}')"
      ],
      "metadata": {
        "colab": {
          "base_uri": "https://localhost:8080/"
        },
        "id": "5U9YQsDITfzS",
        "outputId": "be801a16-4f63-489b-a63d-659f034092cd"
      },
      "execution_count": null,
      "outputs": [
        {
          "output_type": "stream",
          "name": "stdout",
          "text": [
            "input first4\n",
            "input second5\n",
            "9 = 4 + 5\n"
          ]
        }
      ]
    },
    {
      "cell_type": "markdown",
      "source": [
        "## 사칙연산"
      ],
      "metadata": {
        "id": "cllF73mzXYQ5"
      }
    },
    {
      "cell_type": "code",
      "source": [
        "7 + 3, 7 - 3, 7 * 3, 7 / 3, 7 % 3"
      ],
      "metadata": {
        "colab": {
          "base_uri": "https://localhost:8080/"
        },
        "id": "ECTRB8M5VFT0",
        "outputId": "7eb8d441-50c8-4088-dae5-db1f1d3ca59f"
      },
      "execution_count": null,
      "outputs": [
        {
          "output_type": "execute_result",
          "data": {
            "text/plain": [
              "(10, 4, 21, 2.3333333333333335, 1)"
            ]
          },
          "metadata": {},
          "execution_count": 24
        }
      ]
    },
    {
      "cell_type": "markdown",
      "source": [
        "## booleans"
      ],
      "metadata": {
        "id": "bGGKq-W-hVHN"
      }
    },
    {
      "cell_type": "markdown",
      "source": [
        "### ture or false"
      ],
      "metadata": {
        "id": "0c9c_J4nhaWl"
      }
    },
    {
      "cell_type": "code",
      "source": [
        "# second = False\n",
        "# first = True\n",
        "# first = true  # error\n",
        "# second = false  # error\n",
        "second = bool(0)\n",
        "first = bool(1)\n",
        "print(f'first:{first}/{type(first)}, second:{second}/{type(second)}')"
      ],
      "metadata": {
        "colab": {
          "base_uri": "https://localhost:8080/"
        },
        "id": "3VFg4HyuXnrS",
        "outputId": "f9a79441-4abf-4dc8-b2fe-b7ebd9fc6408"
      },
      "execution_count": 3,
      "outputs": [
        {
          "output_type": "stream",
          "name": "stdout",
          "text": [
            "first:True/<class 'bool'>, second:False/<class 'bool'>\n"
          ]
        }
      ]
    },
    {
      "cell_type": "code",
      "source": [
        "not first, not second"
      ],
      "metadata": {
        "colab": {
          "base_uri": "https://localhost:8080/"
        },
        "id": "WOK46XsB3GPy",
        "outputId": "da811a86-9d1c-42a7-eb3d-9131af10c656"
      },
      "execution_count": 4,
      "outputs": [
        {
          "output_type": "execute_result",
          "data": {
            "text/plain": [
              "(False, True)"
            ]
          },
          "metadata": {},
          "execution_count": 4
        }
      ]
    },
    {
      "cell_type": "markdown",
      "source": [
        "### 부등호와 boolean"
      ],
      "metadata": {
        "id": "3kf_D1Y-j27u"
      }
    },
    {
      "cell_type": "code",
      "source": [
        "5 < 7 # 5는 7보다 작다, 7은 5 보다 크다"
      ],
      "metadata": {
        "colab": {
          "base_uri": "https://localhost:8080/"
        },
        "id": "gUhr-1DHiB2y",
        "outputId": "79c67b79-ad2a-4936-9284-83adf4ef875c"
      },
      "execution_count": null,
      "outputs": [
        {
          "output_type": "execute_result",
          "data": {
            "text/plain": [
              "True"
            ]
          },
          "metadata": {},
          "execution_count": 29
        }
      ]
    },
    {
      "cell_type": "code",
      "source": [
        "5 < 7, 5 > 7, 5 == 7, 5 <= 7, 5 >= 7, 5 != 7"
      ],
      "metadata": {
        "colab": {
          "base_uri": "https://localhost:8080/"
        },
        "id": "fZqLhJGnkf2e",
        "outputId": "0e673a5a-653f-4b36-81ae-8e9561ae5d73"
      },
      "execution_count": 1,
      "outputs": [
        {
          "output_type": "execute_result",
          "data": {
            "text/plain": [
              "(True, False, False, True, False, True)"
            ]
          },
          "metadata": {},
          "execution_count": 1
        }
      ]
    },
    {
      "cell_type": "code",
      "source": [
        "first = 5\n",
        "second = 7\n",
        "first < second, first > second, first == second, first <= second, first >= second, first != second,"
      ],
      "metadata": {
        "colab": {
          "base_uri": "https://localhost:8080/"
        },
        "id": "g-M-EO4okskH",
        "outputId": "55700214-20a7-44f2-ed7a-198bb34617fc"
      },
      "execution_count": 8,
      "outputs": [
        {
          "output_type": "execute_result",
          "data": {
            "text/plain": [
              "(True, False, False, True, False, True)"
            ]
          },
          "metadata": {},
          "execution_count": 8
        }
      ]
    },
    {
      "cell_type": "code",
      "source": [
        "not (first < second), not (first > second), not (first == second)\n"
      ],
      "metadata": {
        "id": "tGSD5UcHlANO",
        "colab": {
          "base_uri": "https://localhost:8080/"
        },
        "outputId": "b91659c9-2d15-4b35-afe3-9fa772e29d9a"
      },
      "execution_count": 9,
      "outputs": [
        {
          "output_type": "execute_result",
          "data": {
            "text/plain": [
              "(False, True, True)"
            ]
          },
          "metadata": {},
          "execution_count": 9
        }
      ]
    },
    {
      "cell_type": "markdown",
      "source": [
        "### and 와 or"
      ],
      "metadata": {
        "id": "ucc0prhe4K5H"
      }
    },
    {
      "cell_type": "code",
      "source": [
        "# if 5 < 7 :\n",
        "#   if 10 < 7:\n",
        "\n",
        "5 < 7, 7 < 10, (5 < 7 and 7 < 10)"
      ],
      "metadata": {
        "colab": {
          "base_uri": "https://localhost:8080/"
        },
        "id": "30Gx7CYy34b4",
        "outputId": "95f05436-466c-4724-da03-d5daf3d49710"
      },
      "execution_count": 13,
      "outputs": [
        {
          "output_type": "execute_result",
          "data": {
            "text/plain": [
              "(True, True, True)"
            ]
          },
          "metadata": {},
          "execution_count": 13
        }
      ]
    },
    {
      "cell_type": "code",
      "source": [
        "first = 5\n",
        "second = 7\n",
        "third = 10\n",
        "\n"
      ],
      "metadata": {
        "id": "Hod69lT042Z_"
      },
      "execution_count": null,
      "outputs": []
    }
  ]
}