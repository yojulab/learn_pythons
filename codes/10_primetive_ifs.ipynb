{
  "nbformat": 4,
  "nbformat_minor": 0,
  "metadata": {
    "colab": {
      "provenance": [],
      "authorship_tag": "ABX9TyNuUCinur21fKzhfy4iFMqe",
      "include_colab_link": true
    },
    "kernelspec": {
      "name": "python3",
      "display_name": "Python 3"
    },
    "language_info": {
      "name": "python"
    }
  },
  "cells": [
    {
      "cell_type": "markdown",
      "metadata": {
        "id": "view-in-github",
        "colab_type": "text"
      },
      "source": [
        "<a href=\"https://colab.research.google.com/github/yojulab/learn_pythons/blob/master/codes/10_primetive_ifs.ipynb\" target=\"_parent\"><img src=\"https://colab.research.google.com/assets/colab-badge.svg\" alt=\"Open In Colab\"/></a>"
      ]
    },
    {
      "cell_type": "markdown",
      "source": [
        "## if\n",
        "```\n",
        "if condition :\n",
        "  actions\n",
        "elif condition :\n",
        "  actions\n",
        "else :\n",
        "  actions\n",
        "```"
      ],
      "metadata": {
        "id": "1iPeW8vOoCKS"
      }
    },
    {
      "cell_type": "code",
      "execution_count": 1,
      "metadata": {
        "colab": {
          "base_uri": "https://localhost:8080/"
        },
        "id": "kQznE_QPncrw",
        "outputId": "192aa86e-09e7-4a23-aa62-9ce9abf26107"
      },
      "outputs": [
        {
          "output_type": "stream",
          "name": "stdout",
          "text": [
            "5 < 7\n"
          ]
        }
      ],
      "source": [
        "if 5 < 7 :\n",
        "  print(f'5 < 7')"
      ]
    },
    {
      "cell_type": "code",
      "source": [
        "first = 5\n",
        "second = 7\n",
        "if first < second :\n",
        "  print(f'{first} < {second}')"
      ],
      "metadata": {
        "colab": {
          "base_uri": "https://localhost:8080/"
        },
        "id": "z5C4ZUbGpIF7",
        "outputId": "afe95a58-09db-415c-a395-35686f9c71e8"
      },
      "execution_count": 2,
      "outputs": [
        {
          "output_type": "stream",
          "name": "stdout",
          "text": [
            "5 < 7\n"
          ]
        }
      ]
    },
    {
      "cell_type": "code",
      "source": [
        "first = input('first input : ')\n",
        "second = input('second input : ')\n",
        "first_value = int(first)\n",
        "second_value = int(second)\n",
        "print(f'condition statment : {first_value < second_value}')\n",
        "\n",
        "# only if\n",
        "if first_value < second_value :\n",
        "  print(f'compare : {first_value} < {second_value}')"
      ],
      "metadata": {
        "colab": {
          "base_uri": "https://localhost:8080/"
        },
        "id": "qdWu3zb0plHZ",
        "outputId": "eaa63537-7f00-43f4-e84d-44b6af47c9da"
      },
      "execution_count": 7,
      "outputs": [
        {
          "output_type": "stream",
          "name": "stdout",
          "text": [
            "first input : 12\n",
            "second input : 123\n",
            "condition statment : True\n",
            "compare : 12 < 123\n"
          ]
        }
      ]
    },
    {
      "cell_type": "code",
      "source": [
        "first = input('first input : ')\n",
        "second = input('second input : ')\n",
        "first_value = int(first)\n",
        "second_value = int(second)\n",
        "# if ... else\n",
        "if first_value < second_value :\n",
        "  print(f'compare : {first_value} < {second_value}')\n",
        "else :\n",
        "  print(f'compare : {first_value} > {second_value}')\n"
      ],
      "metadata": {
        "colab": {
          "base_uri": "https://localhost:8080/"
        },
        "id": "Ejl2nlueqUDt",
        "outputId": "b7c8be64-9088-42f3-8a22-ac9a6d13e234"
      },
      "execution_count": 8,
      "outputs": [
        {
          "output_type": "stream",
          "name": "stdout",
          "text": [
            "compare : 12 < 123\n"
          ]
        }
      ]
    },
    {
      "cell_type": "code",
      "source": [
        "first = input('first input : ')\n",
        "second = input('second input : ')\n",
        "first_value = int(first)\n",
        "second_value = int(second)\n",
        "# if ... elif ... else\n",
        "if first_value < second_value :\n",
        "  print(f'compare : {first_value} < {second_value}')\n",
        "elif first_value > second_value :\n",
        "  print(f'compare : {first_value} > {second_value}')\n",
        "else :\n",
        "  print(f'compare : {first_value} == {second_value}')"
      ],
      "metadata": {
        "colab": {
          "base_uri": "https://localhost:8080/"
        },
        "id": "tf1mLDcJy363",
        "outputId": "585d0f89-d324-4e1b-bf6d-efe6abfff484"
      },
      "execution_count": 9,
      "outputs": [
        {
          "output_type": "stream",
          "name": "stdout",
          "text": [
            "compare : 12 < 123\n"
          ]
        }
      ]
    },
    {
      "cell_type": "code",
      "source": [],
      "metadata": {
        "id": "9bPGEwl2y9Kq"
      },
      "execution_count": null,
      "outputs": []
    }
  ]
}