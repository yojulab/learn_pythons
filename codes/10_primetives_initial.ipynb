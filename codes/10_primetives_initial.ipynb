{
  "nbformat": 4,
  "nbformat_minor": 0,
  "metadata": {
    "colab": {
      "provenance": [],
      "include_colab_link": true
    },
    "kernelspec": {
      "name": "python3",
      "display_name": "Python 3"
    },
    "language_info": {
      "name": "python"
    }
  },
  "cells": [
    {
      "cell_type": "markdown",
      "metadata": {
        "id": "view-in-github",
        "colab_type": "text"
      },
      "source": [
        "<a href=\"https://colab.research.google.com/github/yojulab/learn_pythons/blob/master/codes/10_primetives_initial.ipynb\" target=\"_parent\"><img src=\"https://colab.research.google.com/assets/colab-badge.svg\" alt=\"Open In Colab\"/></a>"
      ]
    },
    {
      "cell_type": "markdown",
      "source": [
        "# 묶기"
      ],
      "metadata": {
        "id": "Xw-UG57CSXoG"
      }
    },
    {
      "cell_type": "markdown",
      "source": [
        "## 약속어"
      ],
      "metadata": {
        "id": "gL5sYXJNRhfy"
      }
    },
    {
      "cell_type": "code",
      "execution_count": null,
      "metadata": {
        "id": "avFQPtIVeBd_"
      },
      "outputs": [],
      "source": [
        "# 고정 불변 숫자 덧셈\n",
        "5 + 1"
      ]
    },
    {
      "cell_type": "code",
      "source": [
        "if 5 > 2 :\n",
        "  print(\"Fiv e is greater than two!\")"
      ],
      "metadata": {
        "colab": {
          "base_uri": "https://localhost:8080/"
        },
        "id": "KvappslleodK",
        "outputId": "66c34c44-34dd-4044-97fc-2a2d7614a188"
      },
      "execution_count": null,
      "outputs": [
        {
          "output_type": "stream",
          "name": "stdout",
          "text": [
            "Five is greater than two!\n"
          ]
        }
      ]
    },
    {
      "cell_type": "code",
      "source": [
        "if 5 < 2 :\n",
        "  print(\"Five is greater than two!\")"
      ],
      "metadata": {
        "id": "Z9E1XWE0Hcq0"
      },
      "execution_count": null,
      "outputs": []
    },
    {
      "cell_type": "markdown",
      "source": [
        "## 변수"
      ],
      "metadata": {
        "id": "ERZVb9lSR9dj"
      }
    },
    {
      "cell_type": "code",
      "source": [
        "print(\"Hellow\")\n",
        "print(\"Hellow World!\")"
      ],
      "metadata": {
        "id": "O8_Po8EGHnVL",
        "colab": {
          "base_uri": "https://localhost:8080/"
        },
        "outputId": "8f6c8698-3037-4c90-d64b-3eef2d7f5f78"
      },
      "execution_count": null,
      "outputs": [
        {
          "output_type": "stream",
          "name": "stdout",
          "text": [
            "Hellow\n",
            "Hellow World!\n"
          ]
        }
      ]
    },
    {
      "cell_type": "markdown",
      "source": [
        "### strings"
      ],
      "metadata": {
        "id": "ERWTHB1Mly-4"
      }
    },
    {
      "cell_type": "code",
      "source": [
        "first_string = \"Hellow\"\n",
        "print(first_string)\n",
        "second_string = \"Hellow World!\"\n",
        "print(second_string)"
      ],
      "metadata": {
        "id": "hlc-z0q5SBn9",
        "colab": {
          "base_uri": "https://localhost:8080/"
        },
        "outputId": "9a212a9a-19e3-44bb-c679-0b1de5d8a56b"
      },
      "execution_count": null,
      "outputs": [
        {
          "output_type": "stream",
          "name": "stdout",
          "text": [
            "Hellow\n",
            "Hellow World!\n"
          ]
        }
      ]
    },
    {
      "cell_type": "markdown",
      "source": [
        "### 용도 같은 경우 재사용"
      ],
      "metadata": {
        "id": "83quLoqMiTJc"
      }
    },
    {
      "cell_type": "code",
      "source": [
        "first_string = \"Hellow\"\n",
        "print(first_string)\n",
        "first_string = \"Hellow World!\"\n",
        "print(first_string)"
      ],
      "metadata": {
        "colab": {
          "base_uri": "https://localhost:8080/"
        },
        "id": "YtvCaF-hhcl-",
        "outputId": "07aa917d-eba7-482a-e9b9-d2ba3c0ae840"
      },
      "execution_count": null,
      "outputs": [
        {
          "output_type": "stream",
          "name": "stdout",
          "text": [
            "Hellow\n",
            "Hellow World!\n"
          ]
        }
      ]
    },
    {
      "cell_type": "markdown",
      "source": [
        "### integers"
      ],
      "metadata": {
        "id": "uOLEO0F-l4P4"
      }
    },
    {
      "cell_type": "code",
      "source": [
        "first_integer = 1\n",
        "print(first_integer)\n",
        "second_integer = 2\n",
        "print(second_integer)"
      ],
      "metadata": {
        "colab": {
          "base_uri": "https://localhost:8080/"
        },
        "id": "9sikZQ4QiaG3",
        "outputId": "66718c87-3e31-48e6-ef17-da4150d7c9d4"
      },
      "execution_count": null,
      "outputs": [
        {
          "output_type": "stream",
          "name": "stdout",
          "text": [
            "1\n",
            "2\n"
          ]
        }
      ]
    },
    {
      "cell_type": "code",
      "source": [
        "type(first_string), type(first_integer)\n",
        "# print(type(first_string), type(first_integer))"
      ],
      "metadata": {
        "colab": {
          "base_uri": "https://localhost:8080/"
        },
        "id": "OePC4vUJmwJB",
        "outputId": "a15da60c-9f9a-4b02-f02e-765ccece029f"
      },
      "execution_count": null,
      "outputs": [
        {
          "output_type": "execute_result",
          "data": {
            "text/plain": [
              "(str, int)"
            ]
          },
          "metadata": {},
          "execution_count": 13
        }
      ]
    },
    {
      "cell_type": "markdown",
      "source": [
        "### fomat"
      ],
      "metadata": {
        "id": "l-7iBdzwm5ii"
      }
    },
    {
      "cell_type": "code",
      "source": [
        "# third_concats = \"first_string first_integer\"\n",
        "third_concats = f\"string : {first_string}, integer : {first_integer}\"\n",
        "print(third_concats)"
      ],
      "metadata": {
        "colab": {
          "base_uri": "https://localhost:8080/"
        },
        "id": "dn7jLE3YoGoP",
        "outputId": "e8584338-0a5e-460d-f3a3-a38fd6fcdce3"
      },
      "execution_count": null,
      "outputs": [
        {
          "output_type": "stream",
          "name": "stdout",
          "text": [
            "string : Hellow World!, integer : 1\n"
          ]
        }
      ]
    },
    {
      "cell_type": "code",
      "source": [],
      "metadata": {
        "id": "mFB7P2VWo66F"
      },
      "execution_count": null,
      "outputs": []
    }
  ]
}