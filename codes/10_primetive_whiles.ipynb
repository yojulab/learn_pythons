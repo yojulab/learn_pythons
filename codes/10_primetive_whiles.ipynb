{
  "nbformat": 4,
  "nbformat_minor": 0,
  "metadata": {
    "colab": {
      "provenance": [],
      "collapsed_sections": [
        "0GzAHykLVeQh",
        "VlnIfmr8Y0du"
      ],
      "authorship_tag": "ABX9TyP5wD2HVwWij6PknYJ1lot4",
      "include_colab_link": true
    },
    "kernelspec": {
      "name": "python3",
      "display_name": "Python 3"
    },
    "language_info": {
      "name": "python"
    }
  },
  "cells": [
    {
      "cell_type": "markdown",
      "metadata": {
        "id": "view-in-github",
        "colab_type": "text"
      },
      "source": [
        "<a href=\"https://colab.research.google.com/github/yojulab/learn_pythons/blob/master/codes/10_primetive_whiles.ipynb\" target=\"_parent\"><img src=\"https://colab.research.google.com/assets/colab-badge.svg\" alt=\"Open In Colab\"/></a>"
      ]
    },
    {
      "cell_type": "markdown",
      "source": [
        "## while\n",
        "```\n",
        "while condition :\n",
        "  execute code\n",
        "```"
      ],
      "metadata": {
        "id": "YZNlekuhP47U"
      }
    },
    {
      "cell_type": "code",
      "execution_count": null,
      "metadata": {
        "colab": {
          "base_uri": "https://localhost:8080/"
        },
        "collapsed": true,
        "id": "WbJxQXqFPs-b",
        "outputId": "8d058e8c-daba-4525-d842-fe1b7c4bd4a4"
      },
      "outputs": [
        {
          "output_type": "stream",
          "name": "stdout",
          "text": [
            "hello if\n"
          ]
        }
      ],
      "source": [
        "if True :\n",
        "  print('hello if')"
      ]
    },
    {
      "cell_type": "markdown",
      "source": [
        "### if vs while"
      ],
      "metadata": {
        "id": "0GzAHykLVeQh"
      }
    },
    {
      "cell_type": "code",
      "source": [
        "# while True :\n",
        "#   print('hello while begin')\n",
        "#   print('hello while end')\n",
        "\n",
        "conditions = True\n",
        "# if True :\n",
        "if conditions :\n",
        "  print('hello if - 1')\n",
        "\n",
        "# if True :\n",
        "# if False :\n",
        "conditions = False\n",
        "if conditions :\n",
        "  print('hello if - 2')\n"
      ],
      "metadata": {
        "colab": {
          "base_uri": "https://localhost:8080/"
        },
        "id": "xme1gLKxQ-9G",
        "outputId": "8fda85f3-4bc8-4b56-b5f0-0d47207ec821"
      },
      "execution_count": null,
      "outputs": [
        {
          "output_type": "stream",
          "name": "stdout",
          "text": [
            "hello if - 1\n"
          ]
        }
      ]
    },
    {
      "cell_type": "code",
      "source": [
        "conditions = True\n",
        "while conditions :\n",
        "  print('hello while begin - 1')\n",
        "  print('hello while end - 1')\n",
        "  conditions = False"
      ],
      "metadata": {
        "colab": {
          "base_uri": "https://localhost:8080/"
        },
        "id": "ClGQaF_fWI9L",
        "outputId": "ecedf760-9eda-4148-831e-170a9a4301e5"
      },
      "execution_count": null,
      "outputs": [
        {
          "output_type": "stream",
          "name": "stdout",
          "text": [
            "hello while begin - 1\n",
            "hello while end - 1\n"
          ]
        }
      ]
    },
    {
      "cell_type": "markdown",
      "source": [
        "### condition을 변수와 결합"
      ],
      "metadata": {
        "id": "VlnIfmr8Y0du"
      }
    },
    {
      "cell_type": "code",
      "source": [
        "# 5 < 4\n",
        "# 5 < 5\n",
        "5 <= 5"
      ],
      "metadata": {
        "colab": {
          "base_uri": "https://localhost:8080/"
        },
        "id": "IyzdJnrTXq3a",
        "outputId": "5b48ae8c-3140-4df4-9af2-fc06fe384fd8"
      },
      "execution_count": null,
      "outputs": [
        {
          "output_type": "execute_result",
          "data": {
            "text/plain": [
              "True"
            ]
          },
          "metadata": {},
          "execution_count": 12
        }
      ]
    },
    {
      "cell_type": "code",
      "source": [
        "third = 1\n",
        "while third <= 5: # 조건 결과 나옴 : True 아니면 False\n",
        "  print(f'hello while begin - {third}')\n",
        "  print(f'hello while end - {third}')\n",
        "  third = third + 1"
      ],
      "metadata": {
        "colab": {
          "base_uri": "https://localhost:8080/"
        },
        "id": "ZJqPAx9OZHWE",
        "outputId": "9ae4b3ee-3217-48cb-a2c4-ec8ce12fb0e4"
      },
      "execution_count": null,
      "outputs": [
        {
          "output_type": "stream",
          "name": "stdout",
          "text": [
            "hello while begin - 1\n",
            "hello while end - 1\n",
            "hello while begin - 2\n",
            "hello while end - 2\n",
            "hello while begin - 3\n",
            "hello while end - 3\n",
            "hello while begin - 4\n",
            "hello while end - 4\n",
            "hello while begin - 5\n",
            "hello while end - 5\n"
          ]
        }
      ]
    },
    {
      "cell_type": "markdown",
      "source": [
        "### 심화 문제\n",
        "- 입력값에 맞게 구구단 출력"
      ],
      "metadata": {
        "id": "xHvuPSB8mhz3"
      }
    },
    {
      "cell_type": "code",
      "source": [
        "input_first = input('input value : ')\n",
        "input_first_int = int(input_first)\n",
        "\n",
        "second_condition = 1  # 종료 기준값\n",
        "while second_condition <= 9:\n",
        "  result = input_first_int * second_condition\n",
        "  print(f'{result} = {input_first_int} * {second_condition}')\n",
        "  second_condition = second_condition + 1"
      ],
      "metadata": {
        "colab": {
          "base_uri": "https://localhost:8080/"
        },
        "id": "YRKx-8pwcHbI",
        "outputId": "e286a813-e0ae-4456-8204-c3d5db5bc7dc"
      },
      "execution_count": null,
      "outputs": [
        {
          "output_type": "stream",
          "name": "stdout",
          "text": [
            "input value : 4\n",
            "4 = 4 * 1\n",
            "8 = 4 * 2\n",
            "12 = 4 * 3\n",
            "16 = 4 * 4\n",
            "20 = 4 * 5\n",
            "24 = 4 * 6\n",
            "28 = 4 * 7\n",
            "32 = 4 * 8\n",
            "36 = 4 * 9\n"
          ]
        }
      ]
    },
    {
      "cell_type": "markdown",
      "source": [
        "- 추가 : 특정값에 의해 종료, 'q'"
      ],
      "metadata": {
        "id": "Yo7rj-T0qMAt"
      }
    },
    {
      "cell_type": "code",
      "source": [
        "print(f'program start !')\n",
        "\n",
        "while True :\n",
        "  input_first = input('input value : ')\n",
        "  if input_first == 'q' :\n",
        "    break   # loop 밖으로 이동\n",
        "\n",
        "  input_first_int = int(input_first)\n",
        "  second_condition = 1  # 종료 기준값\n",
        "  while second_condition <= 9:\n",
        "    result = input_first_int * second_condition\n",
        "    print(f'{result} = {input_first_int} * {second_condition}')\n",
        "    second_condition = second_condition + 1\n",
        "\n",
        "print(f'program end!')\n"
      ],
      "metadata": {
        "id": "ue0R2T6PplWr",
        "colab": {
          "base_uri": "https://localhost:8080/"
        },
        "outputId": "4b45b674-d667-42d9-b3a2-8cf6cab5533f"
      },
      "execution_count": null,
      "outputs": [
        {
          "output_type": "stream",
          "name": "stdout",
          "text": [
            "program start !\n",
            "input value : 2\n",
            "2 = 2 * 1\n",
            "4 = 2 * 2\n",
            "6 = 2 * 3\n",
            "8 = 2 * 4\n",
            "10 = 2 * 5\n",
            "12 = 2 * 6\n",
            "14 = 2 * 7\n",
            "16 = 2 * 8\n",
            "18 = 2 * 9\n",
            "input value : q\n",
            "program end!\n"
          ]
        }
      ]
    },
    {
      "cell_type": "code",
      "source": [],
      "metadata": {
        "id": "PKRFyE4Z3U2U"
      },
      "execution_count": null,
      "outputs": []
    }
  ]
}