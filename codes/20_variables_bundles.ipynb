{
  "nbformat": 4,
  "nbformat_minor": 0,
  "metadata": {
    "colab": {
      "provenance": [],
      "authorship_tag": "ABX9TyMUzZAydCsbKD4W3lzK+5zv",
      "include_colab_link": true
    },
    "kernelspec": {
      "name": "python3",
      "display_name": "Python 3"
    },
    "language_info": {
      "name": "python"
    }
  },
  "cells": [
    {
      "cell_type": "markdown",
      "metadata": {
        "id": "view-in-github",
        "colab_type": "text"
      },
      "source": [
        "<a href=\"https://colab.research.google.com/github/yojulab/learn_pythons/blob/master/codes/20_variables_bundles.ipynb\" target=\"_parent\"><img src=\"https://colab.research.google.com/assets/colab-badge.svg\" alt=\"Open In Colab\"/></a>"
      ]
    },
    {
      "cell_type": "markdown",
      "source": [
        "## list\n",
        "```\n",
        "[?, ?, ...]\n",
        "```"
      ],
      "metadata": {
        "id": "7VfB7lS0tqmC"
      }
    },
    {
      "cell_type": "code",
      "execution_count": 12,
      "metadata": {
        "colab": {
          "base_uri": "https://localhost:8080/"
        },
        "id": "cg32R_Ootp0d",
        "outputId": "105c95e4-22b1-4608-e5bd-db30f34fe71c"
      },
      "outputs": [
        {
          "output_type": "execute_result",
          "data": {
            "text/plain": [
              "list"
            ]
          },
          "metadata": {},
          "execution_count": 12
        }
      ],
      "source": [
        "# fruits = [\"apple\", \"banana\", \"cherry\"]\n",
        "# fruits = [\"apple\"]\n",
        "fruits = []\n",
        "\n",
        "type(fruits)"
      ]
    },
    {
      "cell_type": "markdown",
      "source": [
        "### list 변수가 가진 속성(attribute)\n",
        "- 일반 변수(하나의 값이 들어가는 것) : 명칭, 값\n",
        "- 리스트(묶음 값) : 명칭, 값, 순서(index, 0부터 시작)"
      ],
      "metadata": {
        "id": "t6zJ07aobtyP"
      }
    },
    {
      "cell_type": "code",
      "source": [
        "# fruits = [\"apple\", \"banana\", \"cherry\"]\n",
        "fruits = [123, 234, 345]\n",
        "print(f'{fruits}, {fruits[1]}')\n",
        "print(f'{type(fruits)}, {type(fruits[1])}')"
      ],
      "metadata": {
        "id": "oWZO7dZLuj1M",
        "colab": {
          "base_uri": "https://localhost:8080/"
        },
        "outputId": "8053564e-6003-4934-baa5-3f21da323c85"
      },
      "execution_count": 13,
      "outputs": [
        {
          "output_type": "stream",
          "name": "stdout",
          "text": [
            "[123, 234, 345], 234\n",
            "<class 'list'>, <class 'int'>\n"
          ]
        }
      ]
    },
    {
      "cell_type": "markdown",
      "source": [
        "### list가 갖은 함수 사용"
      ],
      "metadata": {
        "id": "upBEbxFmhcrh"
      }
    },
    {
      "cell_type": "code",
      "source": [
        "# fruits = [\"apple\", \"banana\", \"cherry\"]  # 갖고 있는 의미 : 변수명, 변수값, 인덱스\n",
        "fruits = []\n",
        "fruits"
      ],
      "metadata": {
        "id": "IEwMWKkRet9H",
        "colab": {
          "base_uri": "https://localhost:8080/"
        },
        "outputId": "d768c762-924a-4657-eac5-8d37d3b808dc"
      },
      "execution_count": 14,
      "outputs": [
        {
          "output_type": "execute_result",
          "data": {
            "text/plain": [
              "[]"
            ]
          },
          "metadata": {},
          "execution_count": 14
        }
      ]
    },
    {
      "cell_type": "markdown",
      "source": [
        "#### append : 값을 붙여넣음"
      ],
      "metadata": {
        "id": "DQAlvMrJkbVA"
      }
    },
    {
      "cell_type": "code",
      "source": [
        "fruits.append(\"apple\")\n",
        "fruits"
      ],
      "metadata": {
        "colab": {
          "base_uri": "https://localhost:8080/"
        },
        "id": "jWrKLImjiYuw",
        "outputId": "ae09ccfc-a999-44bf-b810-5654951b56fe"
      },
      "execution_count": 15,
      "outputs": [
        {
          "output_type": "execute_result",
          "data": {
            "text/plain": [
              "['apple']"
            ]
          },
          "metadata": {},
          "execution_count": 15
        }
      ]
    },
    {
      "cell_type": "code",
      "source": [
        "fruits.append(\"banana\")\n",
        "fruits"
      ],
      "metadata": {
        "colab": {
          "base_uri": "https://localhost:8080/"
        },
        "id": "KvEq_ddljYFg",
        "outputId": "aba5cca5-1dfe-4589-f6ac-2251b7856dff"
      },
      "execution_count": 16,
      "outputs": [
        {
          "output_type": "execute_result",
          "data": {
            "text/plain": [
              "['apple', 'banana']"
            ]
          },
          "metadata": {},
          "execution_count": 16
        }
      ]
    },
    {
      "cell_type": "code",
      "source": [
        "fruits.append(\"cherry\")\n",
        "fruits"
      ],
      "metadata": {
        "colab": {
          "base_uri": "https://localhost:8080/"
        },
        "id": "wPXUDaH7jhli",
        "outputId": "d9e741c8-d302-4282-cc1e-994e3ad4463e"
      },
      "execution_count": 17,
      "outputs": [
        {
          "output_type": "execute_result",
          "data": {
            "text/plain": [
              "['apple', 'banana', 'cherry']"
            ]
          },
          "metadata": {},
          "execution_count": 17
        }
      ]
    },
    {
      "cell_type": "code",
      "source": [
        "len(fruits)"
      ],
      "metadata": {
        "colab": {
          "base_uri": "https://localhost:8080/"
        },
        "id": "IRKSSraxjohZ",
        "outputId": "3184b8cc-3fde-4cfe-eed9-9b15a332f83f"
      },
      "execution_count": 18,
      "outputs": [
        {
          "output_type": "execute_result",
          "data": {
            "text/plain": [
              "3"
            ]
          },
          "metadata": {},
          "execution_count": 18
        }
      ]
    },
    {
      "cell_type": "code",
      "source": [
        "fruit = input('과일 이름 : ')"
      ],
      "metadata": {
        "colab": {
          "base_uri": "https://localhost:8080/"
        },
        "id": "qRq9RbTwkOjZ",
        "outputId": "1bdffa14-6bfb-4f50-d6f8-d0d2a38e53b2"
      },
      "execution_count": 19,
      "outputs": [
        {
          "name": "stdout",
          "output_type": "stream",
          "text": [
            "과일 이름 : melon\n"
          ]
        }
      ]
    },
    {
      "cell_type": "code",
      "source": [
        "fruits.append(fruit)\n",
        "fruits"
      ],
      "metadata": {
        "colab": {
          "base_uri": "https://localhost:8080/"
        },
        "id": "lcePLNdIk9Ub",
        "outputId": "bb463fb3-34cc-4448-94d3-d4c179ca2641"
      },
      "execution_count": 20,
      "outputs": [
        {
          "output_type": "execute_result",
          "data": {
            "text/plain": [
              "['apple', 'banana', 'cherry', 'melon']"
            ]
          },
          "metadata": {},
          "execution_count": 20
        }
      ]
    },
    {
      "cell_type": "code",
      "source": [],
      "metadata": {
        "id": "F3JVBPf4lFxx"
      },
      "execution_count": 20,
      "outputs": []
    }
  ]
}