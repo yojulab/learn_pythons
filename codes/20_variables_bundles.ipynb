{
  "nbformat": 4,
  "nbformat_minor": 0,
  "metadata": {
    "colab": {
      "provenance": [],
      "authorship_tag": "ABX9TyM44ai4Ium9wPLZUcCGRIRA",
      "include_colab_link": true
    },
    "kernelspec": {
      "name": "python3",
      "display_name": "Python 3"
    },
    "language_info": {
      "name": "python"
    }
  },
  "cells": [
    {
      "cell_type": "markdown",
      "metadata": {
        "id": "view-in-github",
        "colab_type": "text"
      },
      "source": [
        "<a href=\"https://colab.research.google.com/github/yojulab/learn_pythons/blob/master/codes/20_variables_bundles.ipynb\" target=\"_parent\"><img src=\"https://colab.research.google.com/assets/colab-badge.svg\" alt=\"Open In Colab\"/></a>"
      ]
    },
    {
      "cell_type": "markdown",
      "source": [
        "## list\n",
        "```\n",
        "[?, ?, ...]\n",
        "```"
      ],
      "metadata": {
        "id": "7VfB7lS0tqmC"
      }
    },
    {
      "cell_type": "code",
      "execution_count": 3,
      "metadata": {
        "colab": {
          "base_uri": "https://localhost:8080/"
        },
        "id": "cg32R_Ootp0d",
        "outputId": "193abc16-d2ea-4a8b-f8eb-b6bfcb0023d4"
      },
      "outputs": [
        {
          "output_type": "execute_result",
          "data": {
            "text/plain": [
              "list"
            ]
          },
          "metadata": {},
          "execution_count": 3
        }
      ],
      "source": [
        "# fruits = [\"apple\", \"banana\", \"cherry\"]\n",
        "# fruits = [\"apple\"]\n",
        "fruits = []\n",
        "\n",
        "type(fruits)"
      ]
    },
    {
      "cell_type": "code",
      "source": [],
      "metadata": {
        "id": "oWZO7dZLuj1M"
      },
      "execution_count": null,
      "outputs": []
    }
  ]
}