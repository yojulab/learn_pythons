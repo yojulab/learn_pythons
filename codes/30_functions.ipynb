{
  "nbformat": 4,
  "nbformat_minor": 0,
  "metadata": {
    "colab": {
      "provenance": [],
      "authorship_tag": "ABX9TyPngwfE52131vevtqevzpjS",
      "include_colab_link": true
    },
    "kernelspec": {
      "name": "python3",
      "display_name": "Python 3"
    },
    "language_info": {
      "name": "python"
    }
  },
  "cells": [
    {
      "cell_type": "markdown",
      "metadata": {
        "id": "view-in-github",
        "colab_type": "text"
      },
      "source": [
        "<a href=\"https://colab.research.google.com/github/yojulab/learn_pythons/blob/master/codes/30_functions.ipynb\" target=\"_parent\"><img src=\"https://colab.research.google.com/assets/colab-badge.svg\" alt=\"Open In Colab\"/></a>"
      ]
    },
    {
      "cell_type": "markdown",
      "source": [
        "## function\n",
        "- 1원칙 : 기본 구성\n",
        "```\n",
        "def function_name() :\n",
        "  execute codes (변수 + 약속어)\n",
        "```\n",
        "- 2원칙 : params와 return\n",
        "```\n",
        "def function_name(param_first, ...) :\n",
        "  execute codes (변수 + 약속어)\n",
        "  return result\n",
        "```"
      ],
      "metadata": {
        "id": "vlplMAi71aty"
      }
    },
    {
      "cell_type": "markdown",
      "source": [
        "### 기존 코드를 함수화"
      ],
      "metadata": {
        "id": "ay8cMdLt2Eo4"
      }
    },
    {
      "cell_type": "code",
      "execution_count": null,
      "metadata": {
        "colab": {
          "base_uri": "https://localhost:8080/"
        },
        "id": "aFRURvhv1PWc",
        "outputId": "f7ab3afd-4137-4b02-f4bd-f1693b3bc418"
      },
      "outputs": [
        {
          "output_type": "stream",
          "name": "stdout",
          "text": [
            "9 / <class 'int'>= 4 + 5\n"
          ]
        }
      ],
      "source": [
        "input_first_value = 4\n",
        "input_second_value = 5\n",
        "result_plus = input_first_value + input_second_value\n",
        "print(f'{result_plus} / {type(result_plus)}= {input_first_value} + {input_second_value}')"
      ]
    },
    {
      "cell_type": "markdown",
      "source": [
        "### 1 원칙 적용"
      ],
      "metadata": {
        "id": "Sw4VKqvzBWum"
      }
    },
    {
      "cell_type": "code",
      "source": [
        "def add() :\n",
        "  input_first_value = 4\n",
        "  input_second_value = 5\n",
        "  result_plus = input_first_value + input_second_value\n",
        "  print(f'{result_plus} / {type(result_plus)}= {input_first_value} + {input_second_value}')\n"
      ],
      "metadata": {
        "id": "QIwKNzXl2znm"
      },
      "execution_count": null,
      "outputs": []
    },
    {
      "cell_type": "code",
      "source": [
        "add()"
      ],
      "metadata": {
        "colab": {
          "base_uri": "https://localhost:8080/"
        },
        "id": "2BBOm8rm3ugP",
        "outputId": "e76c9e70-2d1e-4116-c350-2d372e017922"
      },
      "execution_count": null,
      "outputs": [
        {
          "output_type": "stream",
          "name": "stdout",
          "text": [
            "9 / <class 'int'>= 4 + 5\n"
          ]
        }
      ]
    },
    {
      "cell_type": "markdown",
      "source": [
        "### 2 원칙 적용"
      ],
      "metadata": {
        "id": "RCpjbJ6WB7fX"
      }
    },
    {
      "cell_type": "markdown",
      "source": [
        "#### paramters"
      ],
      "metadata": {
        "id": "hlXWvBwa0R0o"
      }
    },
    {
      "cell_type": "code",
      "source": [
        "def add(input_first_value, input_second_value) :    # call by values\n",
        "  result_plus = input_first_value + input_second_value\n",
        "  print(f'{result_plus} / {type(result_plus)}= {input_first_value} + {input_second_value}')"
      ],
      "metadata": {
        "id": "QrypKsTJ4j1B"
      },
      "execution_count": null,
      "outputs": []
    },
    {
      "cell_type": "code",
      "source": [
        "# add() 호출\n",
        "add(4, 5)"
      ],
      "metadata": {
        "id": "QeLFP_LGCkDO"
      },
      "execution_count": null,
      "outputs": []
    },
    {
      "cell_type": "code",
      "source": [
        "add(8, 9)"
      ],
      "metadata": {
        "id": "FHkhmGjVCxRt"
      },
      "execution_count": null,
      "outputs": []
    },
    {
      "cell_type": "code",
      "source": [
        "first_input = input('first : ')\n",
        "second_input = input('second : ')"
      ],
      "metadata": {
        "id": "HCsLu5JHDFj4"
      },
      "execution_count": null,
      "outputs": []
    },
    {
      "cell_type": "code",
      "source": [
        "print(f'first_input : {first_input}, second_input : {second_input}')"
      ],
      "metadata": {
        "id": "vfdgzbbYDgLI"
      },
      "execution_count": null,
      "outputs": []
    },
    {
      "cell_type": "code",
      "source": [
        "first_input = int(first_input)\n",
        "second_input = int(second_input)"
      ],
      "metadata": {
        "id": "7TDT2U3LECnZ"
      },
      "execution_count": null,
      "outputs": []
    },
    {
      "cell_type": "code",
      "source": [
        "add(first_input, second_input)  # 재사용성"
      ],
      "metadata": {
        "id": "RGJOLlw-Do_g"
      },
      "execution_count": null,
      "outputs": []
    },
    {
      "cell_type": "markdown",
      "source": [
        "#### return\n",
        "- 함수 분할 기준 : 마이크로(세부) 업무 단위, 하나 작업만 수행"
      ],
      "metadata": {
        "id": "kKQxNMjR0V21"
      }
    },
    {
      "cell_type": "code",
      "source": [
        "def add(input_first_value, input_second_value) :    # call by values\n",
        "  result_plus = input_first_value + input_second_value\n",
        "  return result_plus"
      ],
      "metadata": {
        "id": "2V90w5AWESjJ"
      },
      "execution_count": 9,
      "outputs": []
    },
    {
      "cell_type": "code",
      "source": [
        "add(4, 6)"
      ],
      "metadata": {
        "colab": {
          "base_uri": "https://localhost:8080/"
        },
        "id": "D-2EoqDk2QQy",
        "outputId": "0b0cb611-942b-4567-9545-396ba73465d5"
      },
      "execution_count": 10,
      "outputs": [
        {
          "output_type": "execute_result",
          "data": {
            "text/plain": [
              "10"
            ]
          },
          "metadata": {},
          "execution_count": 10
        }
      ]
    },
    {
      "cell_type": "code",
      "source": [
        "# '=' 좌측 변수엔 동일한 값이 들어간다\n",
        "result = 10\n",
        "result_first = result\n",
        "first = 4\n",
        "second = 6\n",
        "result_return = add(first, second)"
      ],
      "metadata": {
        "id": "Ovirwlgk2YVW"
      },
      "execution_count": 13,
      "outputs": []
    },
    {
      "cell_type": "code",
      "source": [
        "print(f'{result_return} / {type(result_return)}= {first} + {second}')\n"
      ],
      "metadata": {
        "colab": {
          "base_uri": "https://localhost:8080/"
        },
        "id": "dxTVEvRV7GYq",
        "outputId": "98dc6353-27f6-4e80-b3b8-de8810239237"
      },
      "execution_count": 14,
      "outputs": [
        {
          "output_type": "stream",
          "name": "stdout",
          "text": [
            "10 / <class 'int'>= 4 + 6\n"
          ]
        }
      ]
    },
    {
      "cell_type": "code",
      "source": [
        "?print"
      ],
      "metadata": {
        "id": "Bjtch6wE8iyC"
      },
      "execution_count": 19,
      "outputs": []
    },
    {
      "cell_type": "code",
      "source": [],
      "metadata": {
        "id": "yiQgw1uCI60L"
      },
      "execution_count": null,
      "outputs": []
    }
  ]
}