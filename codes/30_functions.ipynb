{
  "nbformat": 4,
  "nbformat_minor": 0,
  "metadata": {
    "colab": {
      "provenance": [],
      "authorship_tag": "ABX9TyMHbChpXGG9mcHgYwldNTLV",
      "include_colab_link": true
    },
    "kernelspec": {
      "name": "python3",
      "display_name": "Python 3"
    },
    "language_info": {
      "name": "python"
    }
  },
  "cells": [
    {
      "cell_type": "markdown",
      "metadata": {
        "id": "view-in-github",
        "colab_type": "text"
      },
      "source": [
        "<a href=\"https://colab.research.google.com/github/yojulab/learn_pythons/blob/master/codes/30_functions.ipynb\" target=\"_parent\"><img src=\"https://colab.research.google.com/assets/colab-badge.svg\" alt=\"Open In Colab\"/></a>"
      ]
    },
    {
      "cell_type": "markdown",
      "source": [
        "## function\n",
        "```\n",
        "def function_name() :\n",
        "  execute codes (변수 + 약속어)\n",
        "```"
      ],
      "metadata": {
        "id": "vlplMAi71aty"
      }
    },
    {
      "cell_type": "markdown",
      "source": [
        "### 기존 코드를 함수화"
      ],
      "metadata": {
        "id": "ay8cMdLt2Eo4"
      }
    },
    {
      "cell_type": "code",
      "execution_count": 1,
      "metadata": {
        "colab": {
          "base_uri": "https://localhost:8080/"
        },
        "id": "aFRURvhv1PWc",
        "outputId": "f7ab3afd-4137-4b02-f4bd-f1693b3bc418"
      },
      "outputs": [
        {
          "output_type": "stream",
          "name": "stdout",
          "text": [
            "9 / <class 'int'>= 4 + 5\n"
          ]
        }
      ],
      "source": [
        "input_first_value = 4\n",
        "input_second_value = 5\n",
        "result_plus = input_first_value + input_second_value\n",
        "print(f'{result_plus} / {type(result_plus)}= {input_first_value} + {input_second_value}')"
      ]
    },
    {
      "cell_type": "code",
      "source": [
        "def add() :\n",
        "  input_first_value = 4\n",
        "  input_second_value = 5\n",
        "  result_plus = input_first_value + input_second_value\n",
        "  print(f'{result_plus} / {type(result_plus)}= {input_first_value} + {input_second_value}')\n"
      ],
      "metadata": {
        "id": "QIwKNzXl2znm"
      },
      "execution_count": 2,
      "outputs": []
    },
    {
      "cell_type": "code",
      "source": [
        "add()"
      ],
      "metadata": {
        "colab": {
          "base_uri": "https://localhost:8080/"
        },
        "id": "2BBOm8rm3ugP",
        "outputId": "e76c9e70-2d1e-4116-c350-2d372e017922"
      },
      "execution_count": 3,
      "outputs": [
        {
          "output_type": "stream",
          "name": "stdout",
          "text": [
            "9 / <class 'int'>= 4 + 5\n"
          ]
        }
      ]
    },
    {
      "cell_type": "code",
      "source": [],
      "metadata": {
        "id": "QrypKsTJ4j1B"
      },
      "execution_count": null,
      "outputs": []
    }
  ]
}